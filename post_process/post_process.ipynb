{
 "metadata": {
  "language_info": {
   "codemirror_mode": {
    "name": "ipython",
    "version": 3
   },
   "file_extension": ".py",
   "mimetype": "text/x-python",
   "name": "python",
   "nbconvert_exporter": "python",
   "pygments_lexer": "ipython3",
   "version": "3.8.3-final"
  },
  "orig_nbformat": 2,
  "kernelspec": {
   "name": "python3",
   "display_name": "Python 3",
   "language": "python"
  }
 },
 "nbformat": 4,
 "nbformat_minor": 2,
 "cells": [
  {
   "cell_type": "code",
   "execution_count": 117,
   "metadata": {},
   "outputs": [],
   "source": [
    "import PIL\n",
    "from PIL import Image\n",
    "import numpy as np\n",
    "import cv2\n",
    "dim = (256,256)\n",
    "for idx in range(8):\n",
    "    ori = Image.open('./Original/'+str(idx)+'.jpg')\n",
    "    result = Image.open('./After_both/'+str(idx)+'.png')\n",
    "    extracted = Image.open('./After_mrcnn/'+str(idx)+'.png')\n",
    "    result = np.array(result)\n",
    "    extracted = np.array(extracted)\n",
    "    ori = np.array(ori)\n",
    "    extracted = cv2.resize(extracted, dim)\n",
    "    ori = cv2.resize(ori, dim)\n",
    "    final = np.zeros((256,256,3),dtype='uint8')\n",
    "    for i in range(256):\n",
    "        for j in range(256):\n",
    "            if extracted[i,j,3] == 0:\n",
    "                final[i,j,:] = ori[i,j,:]\n",
    "            else:\n",
    "                final[i,j,:] = result[i,j,:]\n",
    "    final_img = Image.fromarray(final,'RGB')\n",
    "    final_img.save(\"./Result/result_\"+str(idx)+\".jpg\")    \n"
   ]
  },
  {
   "cell_type": "code",
   "execution_count": null,
   "metadata": {},
   "outputs": [],
   "source": []
  }
 ]
}